{
 "cells": [
  {
   "cell_type": "markdown",
   "metadata": {},
   "source": [
    "**Establishing a Connection to the PostgreSQL Database**\n",
    "This code cell establishes a connection to the PostgreSQL database using the psycopg2 library. It requires you to provide the necessary connection parameters such as the host, database name, username, password, and port number."
   ]
  },
  {
   "cell_type": "code",
   "execution_count": 17,
   "metadata": {},
   "outputs": [],
   "source": [
    "# Import Libraries and Connect to the Database\n",
    "import psycopg2\n",
    "\n",
    "# Establish connection\n",
    "conn = psycopg2.connect(\n",
    "    host='localhost',\n",
    "    database='health_food_store',\n",
    "    user='postgres',\n",
    "    password='root',\n",
    "    port=5432\n",
    ")"
   ]
  },
  {
   "cell_type": "markdown",
   "metadata": {},
   "source": [
    "**List Tables in the Database**\n",
    "\n",
    "This code cell defines a function to list all the tables in the database. It executes a SQL query to fetch the table names from the database and displays them as the output."
   ]
  },
  {
   "cell_type": "code",
   "execution_count": 18,
   "metadata": {},
   "outputs": [
    {
     "name": "stdout",
     "output_type": "stream",
     "text": [
      "Tables are as follows:\n",
      "departments\n",
      "items\n",
      "shoppers\n",
      "shoppingtrips\n",
      "purchases\n"
     ]
    }
   ],
   "source": [
    "# Import Libraries and Connect to the Database\n",
    "import psycopg2\n",
    "\n",
    "# Establish connection\n",
    "conn = psycopg2.connect(\n",
    "    host='localhost',\n",
    "    database='health_food_store',\n",
    "    user='postgres',\n",
    "    password='root',\n",
    "    port=5432\n",
    ")\n",
    "# Function to List the tables in the database\n",
    "def list_tables():\n",
    "    with conn.cursor() as cur:\n",
    "        cur.execute(\"SELECT table_name FROM information_schema.tables WHERE table_schema='public';\")\n",
    "        tables = cur.fetchall()\n",
    "        for table in tables:\n",
    "            print(table[0])\n",
    "print(\"Tables are as follows:\")\n",
    "list_tables()\n"
   ]
  },
  {
   "cell_type": "markdown",
   "metadata": {},
   "source": [
    "**Listing Items in the Supplements Section**\n",
    "This code cell defines a function to list all the items in the supplements section. It executes a SQL query that selects the items from the \"items\" table where the department_id matches the department_id of the \"supplements\" section. The query results are displayed."
   ]
  },
  {
   "cell_type": "code",
   "execution_count": null,
   "metadata": {},
   "outputs": [],
   "source": [
    "# Import Libraries and Connect to the Database\n",
    "import psycopg2\n",
    "\n",
    "# Establish connection\n",
    "conn = psycopg2.connect(\n",
    "    host='localhost',\n",
    "    database='health_food_store',\n",
    "    user='postgres',\n",
    "    password='root',\n",
    "    port=5432\n",
    ")\n",
    "# Function List all items in the supplements section\n",
    "def list_supplements():\n",
    "    with conn.cursor() as cur:\n",
    "        cur.execute(\"SELECT * FROM items WHERE department_id = (SELECT department_id FROM departments WHERE name = 'Supplements');\")\n",
    "        supplements = cur.fetchall()\n",
    "        for supplement in supplements:\n",
    "            print(supplement)\n",
    "\n",
    "print(\"The list of suppliments are as follows: \")\n",
    "list_supplements()\n"
   ]
  },
  {
   "cell_type": "markdown",
   "metadata": {},
   "source": [
    "**Listing All Departments**\n",
    "This code cell defines a function to list all the departments in the health food store. It executes a SQL query that selects all the rows from the \"departments\" table and displays the department details."
   ]
  },
  {
   "cell_type": "code",
   "execution_count": 19,
   "metadata": {},
   "outputs": [
    {
     "name": "stdout",
     "output_type": "stream",
     "text": [
      "(1, 'Household')\n",
      "(2, 'Personal Goods')\n",
      "(3, 'Dried Goods')\n",
      "(4, 'Fresh Vegetables')\n",
      "(5, 'Supplements')\n",
      "(6, 'Household')\n",
      "(7, 'Personal Goods')\n",
      "(8, 'Dried Goods')\n",
      "(9, 'Fresh Vegetables')\n",
      "(10, 'Supplements')\n",
      "(12, 'Household')\n",
      "(13, 'Personal Goods')\n",
      "(14, 'Dried Goods')\n",
      "(15, 'Fresh Vegetables')\n",
      "(16, 'Supplements')\n"
     ]
    }
   ],
   "source": [
    "# Import Libraries and Connect to the Database\n",
    "import psycopg2\n",
    "\n",
    "# Establish connection\n",
    "conn = psycopg2.connect(\n",
    "    host='localhost',\n",
    "    database='health_food_store',\n",
    "    user='postgres',\n",
    "    password='root',\n",
    "    port=5432\n",
    ")\n",
    "#Listing all departments\n",
    "def list_departments():\n",
    "    with conn.cursor() as cur:\n",
    "        cur.execute(\"SELECT * FROM departments;\")\n",
    "        departments = cur.fetchall()\n",
    "        for department in departments:\n",
    "            print(department)\n",
    "        \n",
    "list_departments()\n"
   ]
  },
  {
   "cell_type": "markdown",
   "metadata": {},
   "source": [
    "**Adding an Anonymous Shopping Trip**\n",
    "This code cell defines a function to add an anonymous shopping trip to the database. It executes an SQL query to insert a new row into the \"shoppingtrips\" table with default values for shopper_id, trip_datetime, is_identifiable, and is_preorder."
   ]
  },
  {
   "cell_type": "code",
   "execution_count": 20,
   "metadata": {},
   "outputs": [
    {
     "name": "stdout",
     "output_type": "stream",
     "text": [
      "Shopping trip added successfully!\n",
      "\n"
     ]
    }
   ],
   "source": [
    "# Import Libraries and Connect to the Database\n",
    "import psycopg2\n",
    "\n",
    "# Establish connection\n",
    "conn = psycopg2.connect(\n",
    "    host='localhost',\n",
    "    database='health_food_store',\n",
    "    user='postgres',\n",
    "    password='root',\n",
    "    port=5432\n",
    ")\n",
    "# Function to Add a shopping trip which is anonymous and only buys some mung beans from the dried goods department\n",
    "def add_shopping_trip():\n",
    "    with conn.cursor() as cur:\n",
    "        cur.execute(\"INSERT INTO shoppingtrips (shopper_id, trip_datetime, is_identifiable, is_preorder) VALUES (NULL, CURRENT_TIMESTAMP, FALSE, FALSE);\")\n",
    "        conn.commit()\n",
    "        print(\"Shopping trip added successfully!\")\n",
    "\n",
    "add_shopping_trip()\n",
    "print()"
   ]
  },
  {
   "cell_type": "markdown",
   "metadata": {},
   "source": [
    " **Selecting Shopping Trips with Pre-Orders**\n",
    "This code cell defines a function to select all the shopping trips that have purchased pre-orders. It executes an SQL query that retrieves the trip_id, shopper name (if identifiable), trip_datetime, and is_identifiable from the \"shoppingtrips\" table. The query results are displayed."
   ]
  },
  {
   "cell_type": "code",
   "execution_count": 21,
   "metadata": {},
   "outputs": [
    {
     "name": "stdout",
     "output_type": "stream",
     "text": [
      "Trip ID: 3, Shopper Name: David Johnson, Trip Datetime: 2023-07-12 22:58:57.043495+03:00, Identifiable: True\n",
      "Trip ID: 5, Shopper Name: Michael Brownlion, Trip Datetime: 2023-07-12 22:58:57.043495+03:00, Identifiable: False\n",
      "Trip ID: 8, Shopper Name: David Johnson, Trip Datetime: 2023-07-12 22:59:03.125211+03:00, Identifiable: True\n",
      "Trip ID: 10, Shopper Name: Michael Brownlion, Trip Datetime: 2023-07-12 22:59:03.125211+03:00, Identifiable: False\n",
      "Trip ID: 14, Shopper Name: David Johnson, Trip Datetime: 2023-07-12 23:06:54.583196+03:00, Identifiable: True\n",
      "Trip ID: 16, Shopper Name: Michael Brownlion, Trip Datetime: 2023-07-12 23:06:54.583196+03:00, Identifiable: False\n",
      "\n"
     ]
    }
   ],
   "source": [
    "# Function to Select all shopping trips which have purchased pre-orders, listing whether the shopper was identifiable and the time-date of the trip\n",
    "def select_preorder_shopping_trips():\n",
    "    with conn.cursor() as cur:\n",
    "        cur.execute(\"SELECT st.trip_id, s.name AS shopper_name, st.trip_datetime, st.is_identifiable FROM shoppingtrips st LEFT JOIN shoppers s ON st.shopper_id = s.shopper_id WHERE st.is_preorder = TRUE;\")\n",
    "        trips = cur.fetchall()\n",
    "        for trip in trips:\n",
    "            print(f\"Trip ID: {trip[0]}, Shopper Name: {trip[1]}, Trip Datetime: {trip[2]}, Identifiable: {trip[3]}\")\n",
    "\n",
    "select_preorder_shopping_trips()\n",
    "print()"
   ]
  },
  {
   "cell_type": "markdown",
   "metadata": {},
   "source": [
    "**Finding Identifiable Shoppers Who Purchased Dried Goods and Fresh Vegetables**\n",
    "This code cell defines a function to find identifiable shoppers who have purchased both dried goods and fresh vegetables in the same shopping trip. It executes an SQL query that joins the necessary tables (shoppingtrips, purchases, items, departments) and filters the results based on the department names. The shopper IDs are displayed as the output."
   ]
  },
  {
   "cell_type": "code",
   "execution_count": 22,
   "metadata": {},
   "outputs": [
    {
     "name": "stdout",
     "output_type": "stream",
     "text": [
      "\n"
     ]
    }
   ],
   "source": [
    "# Import Libraries and Connect to the Database\n",
    "import psycopg2\n",
    "\n",
    "# Establish connection\n",
    "conn = psycopg2.connect(\n",
    "    host='localhost',\n",
    "    database='health_food_store',\n",
    "    user='postgres',\n",
    "    password='root',\n",
    "    port=5432\n",
    ")\n",
    "# Function to Find the id of all identifiable shoppers who have purchased both dried goods and fresh vegetables in the same shopping trip\n",
    "def find_shoppers_purchased_dried_goods_and_vegetables():\n",
    "    with conn.cursor() as cur:\n",
    "        cur.execute(\"SELECT DISTINCT st.shopper_id FROM shoppingtrips st JOIN purchases p ON st.trip_id = p.trip_id JOIN items i ON p.item_id = i.item_id JOIN departments d ON i.department_id = d.department_id WHERE d.name = 'Dried Goods' AND EXISTS (SELECT 1 FROM items i2 JOIN departments d2 ON i2.department_id = d2.department_id WHERE d2.name = 'Fresh Vegetables' AND i2.item_id = i.item_id);\")\n",
    "        shoppers = cur.fetchall()\n",
    "        for shopper in shoppers:\n",
    "            print(shopper[0])\n",
    "\n",
    "find_shoppers_purchased_dried_goods_and_vegetables()\n",
    "print()"
   ]
  },
  {
   "cell_type": "markdown",
   "metadata": {},
   "source": [
    "**Deleting an Anonymous Shopping Trip**\n",
    "This code cell defines a function to delete the anonymous shopping trip added in Task 4. It executes an SQL query to delete the row from the \"shoppingtrips\" table where the shopper_id is NULL."
   ]
  },
  {
   "cell_type": "code",
   "execution_count": 23,
   "metadata": {},
   "outputs": [
    {
     "name": "stdout",
     "output_type": "stream",
     "text": [
      "Anonymous shopping trip deleted successfully!\n"
     ]
    }
   ],
   "source": [
    "# Import Libraries and Connect to the Database\n",
    "import psycopg2\n",
    "\n",
    "# Establish connection\n",
    "conn = psycopg2.connect(\n",
    "    host='localhost',\n",
    "    database='health_food_store',\n",
    "    user='postgres',\n",
    "    password='root',\n",
    "    port=5432\n",
    ")\n",
    "# Deleting the anonymous shopping trip added to the database\n",
    "def delete_anonymous_shopping_trip():\n",
    "    with conn.cursor() as cur:\n",
    "        cur.execute(\"DELETE FROM shoppingtrips WHERE shopper_id IS NULL;\")\n",
    "        conn.commit()\n",
    "        print(\"Anonymous shopping trip deleted successfully!\")\n",
    "\n",
    "\n",
    "delete_anonymous_shopping_trip()\n",
    "\n",
    "# Closing the connection\n",
    "conn.close()"
   ]
  },
  {
   "cell_type": "markdown",
   "metadata": {},
   "source": [
    " **Inserting a New Shopper**\n",
    "This code cell defines a function to insert a new shopper into the database. It takes the shopper's name and payment method as parameters and executes an SQL query to insert a new row into the \"shoppers\" table. The inserted shopper's details are displayed as the output."
   ]
  },
  {
   "cell_type": "code",
   "execution_count": 24,
   "metadata": {},
   "outputs": [
    {
     "name": "stdout",
     "output_type": "stream",
     "text": [
      "Shopper inserted successfully:\n",
      "(17, 'Emily Savage', 'Card')\n"
     ]
    }
   ],
   "source": [
    "# Import Libraries and Connect to the Database\n",
    "import psycopg2\n",
    "\n",
    "# Establish connection\n",
    "conn = psycopg2.connect(\n",
    "    host='localhost',\n",
    "    database='health_food_store',\n",
    "    user='postgres',\n",
    "    password='root',\n",
    "    port=5432\n",
    ")\n",
    "# Function to Insert a new shopper\n",
    "def insert_shopper(name, payment_method):\n",
    "    with conn.cursor() as cur:\n",
    "        cur.execute(\"INSERT INTO shoppers (name, payment_method) VALUES (%s, %s) RETURNING *;\", (name, payment_method))\n",
    "        shopper = cur.fetchone()\n",
    "        print(\"Shopper inserted successfully:\")\n",
    "        print(shopper)\n",
    "# insert a new shopper\n",
    "insert_shopper('Emily Savage', 'Card')\n",
    "\n"
   ]
  },
  {
   "cell_type": "markdown",
   "metadata": {},
   "source": [
    "**Inserting New Items**\n",
    "This code cell defines a function to insert multiple items into the database. It takes a list of items (each item with a name and department_id) as a parameter. The function iterates over the list, executes an SQL query for each item to insert a new row into the \"items\" table, and displays the inserted item's details."
   ]
  },
  {
   "cell_type": "code",
   "execution_count": 25,
   "metadata": {},
   "outputs": [
    {
     "name": "stdout",
     "output_type": "stream",
     "text": [
      "Item inserted successfully:\n",
      "(19, 'Yogurt', 3)\n",
      "Item inserted successfully:\n",
      "(20, 'Apples', 4)\n",
      "Item inserted successfully:\n",
      "(21, 'Vitamins', 5)\n"
     ]
    }
   ],
   "source": [
    "# Import Libraries and Connect to the Database\n",
    "import psycopg2\n",
    "\n",
    "# Establish connection\n",
    "conn = psycopg2.connect(\n",
    "    host='localhost',\n",
    "    database='health_food_store',\n",
    "    user='postgres',\n",
    "    password='root',\n",
    "    port=5432\n",
    ")\n",
    "# Function to Insert new items\n",
    "def insert_items(items):\n",
    "    with conn.cursor() as cur:\n",
    "        for item in items:\n",
    "            cur.execute(\"INSERT INTO items (name, department_id) VALUES (%s, %s) RETURNING *;\", (item['name'], item['department_id']))\n",
    "            inserted_item = cur.fetchone()\n",
    "            print(\"Item inserted successfully:\")\n",
    "            print(inserted_item)\n",
    "\n",
    "# insert multiple items\n",
    "items_to_insert = [\n",
    "    {'name': 'Yogurt', 'department_id': 3},\n",
    "    {'name': 'Apples', 'department_id': 4},\n",
    "    {'name': 'Vitamins', 'department_id': 5}\n",
    "]\n",
    "insert_items(items_to_insert)\n"
   ]
  },
  {
   "cell_type": "markdown",
   "metadata": {},
   "source": [
    "**Inserting a New Department**\n",
    "This code cell defines a function to insert a new department into the database. It takes the department's name as a parameter and executes an SQL query to insert a new row into the \"departments\" table. The inserted department's details are displayed as the output."
   ]
  },
  {
   "cell_type": "code",
   "execution_count": 26,
   "metadata": {},
   "outputs": [
    {
     "name": "stdout",
     "output_type": "stream",
     "text": [
      "Department inserted successfully:\n",
      "(17, 'Bakery')\n"
     ]
    }
   ],
   "source": [
    "# Import Libraries and Connect to the Database\n",
    "import psycopg2\n",
    "\n",
    "# Establish connection\n",
    "conn = psycopg2.connect(\n",
    "    host='localhost',\n",
    "    database='health_food_store',\n",
    "    user='postgres',\n",
    "    password='root',\n",
    "    port=5432\n",
    ")\n",
    "# Inserting a new department\n",
    "def insert_department(name):\n",
    "    with conn.cursor() as cur:\n",
    "        cur.execute(\"INSERT INTO departments (name) VALUES (%s) RETURNING *;\", (name,))\n",
    "        department = cur.fetchone()\n",
    "        print(\"Department inserted successfully:\")\n",
    "        print(department)\n",
    "\n",
    "# insert a new department\n",
    "insert_department('Bakery')\n"
   ]
  }
 ],
 "metadata": {
  "kernelspec": {
   "display_name": "Python 3",
   "language": "python",
   "name": "python3"
  },
  "language_info": {
   "codemirror_mode": {
    "name": "ipython",
    "version": 3
   },
   "file_extension": ".py",
   "mimetype": "text/x-python",
   "name": "python",
   "nbconvert_exporter": "python",
   "pygments_lexer": "ipython3",
   "version": "3.11.4"
  },
  "orig_nbformat": 4
 },
 "nbformat": 4,
 "nbformat_minor": 2
}
