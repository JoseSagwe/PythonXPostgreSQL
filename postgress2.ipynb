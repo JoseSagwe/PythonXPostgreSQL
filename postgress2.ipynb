{
 "cells": [
  {
   "cell_type": "markdown",
   "metadata": {},
   "source": [
    "**CONNECTION**\n",
    "\n",
    "**This code cell Establishes a Connection to the PostgreSQL Database and Executing query for tables and data model in the database**\n",
    "It requires necessary connection parameters such as the host, database name, username, password, and port number."
   ]
  },
  {
   "cell_type": "code",
   "execution_count": null,
   "metadata": {},
   "outputs": [],
   "source": [
    "import psycopg2\n",
    "\n",
    "# Function to connect to the PostgreSQL database\n",
    "def connect_to_database():\n",
    "    try:\n",
    "        conn = psycopg2.connect(\n",
    "                host='localhost',\n",
    "                database='food_store',\n",
    "                user='postgres',\n",
    "                password='root',\n",
    "        )\n",
    "        print(\"Database connection successful!\")\n",
    "        return conn\n",
    "    except psycopg2.Error as e:\n",
    "        print(\"Error: Unable to connect to the database.\")\n",
    "        print(e)\n",
    "        return None\n",
    "\n",
    "# Function to execute a query and fetch all rows\n",
    "def execute_query_fetch_all(query):\n",
    "    conn = connect_to_database()\n",
    "    if conn:\n",
    "        try:\n",
    "            cur = conn.cursor()\n",
    "            cur.execute(query)\n",
    "            rows = cur.fetchall()\n",
    "            conn.close()\n",
    "            return rows\n",
    "        except psycopg2.Error as e:\n",
    "            print(e)\n",
    "            return None\n",
    "    else:\n",
    "        return None\n",
    "\n",
    "# Function to execute a query without fetching results\n",
    "def execute_query(query):\n",
    "    conn = connect_to_database()\n",
    "    if conn:\n",
    "        try:\n",
    "            cur = conn.cursor()\n",
    "            cur.execute(query)\n",
    "            conn.commit()\n",
    "            conn.close()\n",
    "            print(\"Query executed successfully!\")\n",
    "        except psycopg2.Error as e:\n",
    "            print(e)\n",
    "\n",
    "            # Creating the tables in the database\n",
    "create_tables_query = \"\"\"\n",
    "    CREATE TABLE IF NOT EXISTS shoppers (\n",
    "        shopper_id SERIAL PRIMARY KEY,\n",
    "        shopper_name VARCHAR(255) NOT NULL,\n",
    "        payment_method VARCHAR(20) NOT NULL\n",
    "    );\n",
    "\n",
    "    CREATE TABLE IF NOT EXISTS shoppingtrips (\n",
    "        trip_id SERIAL PRIMARY KEY,\n",
    "        shopper_id INTEGER REFERENCES shoppers(shopper_id),\n",
    "        trip_date DATE NOT NULL,\n",
    "        is_identifiable BOOLEAN NOT NULL,\n",
    "        pre_order BOOLEAN NOT NULL\n",
    "    );\n",
    "\n",
    "    CREATE TABLE IF NOT EXISTS departments (\n",
    "        department_id SERIAL PRIMARY KEY,\n",
    "        department_name VARCHAR(100) NOT NULL\n",
    "    );\n",
    "\n",
    "    CREATE TABLE IF NOT EXISTS items (\n",
    "        item_id SERIAL PRIMARY KEY,\n",
    "        item_name VARCHAR(255) NOT NULL,\n",
    "        department_id INTEGER REFERENCES departments(department_id)\n",
    "    );\n",
    "\n",
    "    CREATE TABLE IF NOT EXISTS purchases (\n",
    "        purchase_id SERIAL PRIMARY KEY,\n",
    "        trip_id INTEGER REFERENCES shoppingtrips(trip_id),\n",
    "        item_id INTEGER REFERENCES items(item_id),\n",
    "        amount INTEGER NOT NULL\n",
    "    );\n",
    "\"\"\"\n",
    "\n",
    "# Insert test data into the tables\n",
    "insert_data_query = \"\"\"\n",
    "    -- Departments\n",
    "    INSERT INTO departments (department_name) VALUES\n",
    "        ('household'),\n",
    "        ('personal goods'),\n",
    "        ('dried goods'),\n",
    "        ('fresh vegetables'),\n",
    "        ('supplements');\n",
    "\n",
    "    -- Items\n",
    "    INSERT INTO items (item_name, department_id) VALUES\n",
    "        ('item1', 1),\n",
    "        ('item2', 2),\n",
    "        ('item3', 3),\n",
    "        ('item4', 4),\n",
    "        ('item5', 5);\n",
    "\n",
    "    -- Shoppers\n",
    "    INSERT INTO shoppers (shopper_name, payment_method) VALUES\n",
    "        ('Chris Brown', 'card'),\n",
    "        ('Jonhson Trevor', 'cash'),\n",
    "        ('Anonymous Shopper', 'cash');\n",
    "\n",
    "    -- Shopping Trips\n",
    "    INSERT INTO shoppingtrips (shopper_id, trip_date, is_identifiable, pre_order) VALUES\n",
    "        (1, '2023-07-19', TRUE, TRUE),\n",
    "        (2, '2023-07-19', TRUE, FALSE),\n",
    "        (NULL, '2023-07-19', FALSE, FALSE);\n",
    "\n",
    "   -- Purchases\n",
    "INSERT INTO purchases (trip_id, item_id, amount) VALUES\n",
    "    (1, 3, 2),   -- Shopper 1, Trip 1: Purchased dried goods (item3)\n",
    "    (1, 4, 1),   -- Shopper 1, Trip 1: Purchased fresh vegetables (item4)\n",
    "    (2, 3, 1),   -- Shopper 2, Trip 1: Purchased dried goods (item3)\n",
    "    (2, 4, 2),   -- Shopper 2, Trip 1: Purchased fresh vegetables (item4)\n",
    "    (3, 3, 1),   -- Shopper 3, Trip 1: Purchased dried goods (item3)\n",
    "    (3, 5, 1);   -- Shopper 3, Trip 1: Purchased supplements (item5)\n",
    "\n",
    "\"\"\"\n",
    "\n",
    "# Execution of the table creation and data insertion queries\n",
    "execute_query(create_tables_query)\n",
    "execute_query(insert_data_query)"
   ]
  },
  {
   "cell_type": "markdown",
   "metadata": {},
   "source": [
    "**ONE**\n",
    "\n",
    "**Listing Tables in the Database**\n",
    "\n",
    "This code cell defines a function to list all the tables in the database. It executes a SQL query to fetch the table names from the database and displays them as the output."
   ]
  },
  {
   "cell_type": "code",
   "execution_count": null,
   "metadata": {},
   "outputs": [],
   "source": [
    "query_list_tables = \"\"\"\n",
    "    SELECT table_name\n",
    "    FROM information_schema.tables\n",
    "    WHERE table_schema = 'public';\n",
    "\"\"\"\n",
    "\n",
    "tables = execute_query_fetch_all(query_list_tables)\n",
    "print(\"Tables in the database:\")\n",
    "print(tables)\n"
   ]
  },
  {
   "cell_type": "markdown",
   "metadata": {},
   "source": [
    "**TWO**\n",
    "\n",
    "**Listing Items in the Supplements Section**\n",
    "This code cell defines a function to list all the items in the supplements section. "
   ]
  },
  {
   "cell_type": "code",
   "execution_count": null,
   "metadata": {},
   "outputs": [],
   "source": [
    "query_list_supplements = \"\"\"\n",
    "    SELECT item_name\n",
    "    FROM items\n",
    "    WHERE department_id = (SELECT department_id FROM departments WHERE department_name = 'supplements');\n",
    "\"\"\"\n",
    "\n",
    "supplements = execute_query_fetch_all(query_list_supplements)\n",
    "print(\"\\nItems in the supplements section:\")\n",
    "print(supplements)\n"
   ]
  },
  {
   "cell_type": "markdown",
   "metadata": {},
   "source": [
    "**THREE**\n",
    "\n",
    "**Listing All Departments**\n",
    "This code cell defines a function to list all the departments in the health food store. "
   ]
  },
  {
   "cell_type": "code",
   "execution_count": null,
   "metadata": {},
   "outputs": [],
   "source": [
    "query_list_departments = \"\"\"\n",
    "    SELECT department_name\n",
    "    FROM departments;\n",
    "\"\"\"\n",
    "\n",
    "departments = execute_query_fetch_all(query_list_departments)\n",
    "print(\"\\nDepartments:\")\n",
    "print(departments)\n"
   ]
  },
  {
   "cell_type": "markdown",
   "metadata": {},
   "source": [
    "**FOUR**\n",
    "\n",
    "**Adding an Anonymous Shopping Trip**\n",
    "This code cell defines a function to add an anonymous shopping trip to the database."
   ]
  },
  {
   "cell_type": "code",
   "execution_count": null,
   "metadata": {},
   "outputs": [],
   "source": [
    "query_add_anonymous_trip = \"\"\"\n",
    "    INSERT INTO shoppingtrips (shopper_id, trip_date, is_identifiable, pre_order)\n",
    "    VALUES (NULL, '2023-07-19', FALSE, FALSE);\n",
    "\n",
    "    INSERT INTO purchases (trip_id, item_id, amount)\n",
    "    VALUES (currval('shoppingtrips_trip_id_seq'), (SELECT item_id FROM items WHERE item_name = 'item3'), 1);\n",
    "\"\"\"\n",
    "\n",
    "execute_query(query_add_anonymous_trip)\n"
   ]
  },
  {
   "cell_type": "markdown",
   "metadata": {},
   "source": [
    " **FIVE**\n",
    "\n",
    " **Selecting Shopping Trips with Pre-Orders**\n",
    "This code cell defines a function to select all the shopping trips that have purchased pre-orders. "
   ]
  },
  {
   "cell_type": "code",
   "execution_count": null,
   "metadata": {},
   "outputs": [],
   "source": [
    "query_select_pre_orders = \"\"\"\n",
    "    SELECT st.trip_id, s.shopper_id, s.shopper_name, st.trip_date\n",
    "    FROM shoppingtrips st\n",
    "    JOIN shoppers s ON st.shopper_id = s.shopper_id\n",
    "    WHERE st.pre_order = TRUE;\n",
    "\"\"\"\n",
    "\n",
    "pre_orders = execute_query_fetch_all(query_select_pre_orders)\n",
    "print(\"\\nShopping trips with pre-orders:\")\n",
    "print(pre_orders)\n"
   ]
  },
  {
   "cell_type": "markdown",
   "metadata": {},
   "source": [
    "**SIX**\n",
    "\n",
    "**This function cell finds identifiable shoppers who purchased both dried goods and fresh vegetables in the same trip**\n",
    " Executing the query to find identifiable shoppers who purchased both dried goods and fresh vegetables"
   ]
  },
  {
   "cell_type": "code",
   "execution_count": null,
   "metadata": {},
   "outputs": [],
   "source": [
    "query_find_shoppers_dried_goods_and_vegetables = \"\"\"\n",
    "    SELECT s.shopper_id, s.shopper_name\n",
    "    FROM shoppers s\n",
    "    JOIN shoppingtrips st ON s.shopper_id = st.shopper_id\n",
    "    JOIN purchases p ON st.trip_id = p.trip_id\n",
    "    JOIN items i ON p.item_id = i.item_id\n",
    "    WHERE i.department_id IN (\n",
    "        SELECT department_id FROM departments WHERE department_name IN ('dried goods', 'fresh vegetables')\n",
    "    )\n",
    "    GROUP BY s.shopper_id, s.shopper_name\n",
    "    HAVING COUNT(DISTINCT i.department_id) = 2;\n",
    "\"\"\"\n",
    "\n",
    "# Executing the query to find identifiable shoppers who purchased both dried goods and fresh vegetables\n",
    "\n",
    "shoppers_dried_goods_vegetables = execute_query_fetch_all(query_find_shoppers_dried_goods_and_vegetables)\n",
    "print(\"\\nIdentifiable shoppers who purchased both dried goods and fresh vegetables in the same trip:\")\n",
    "print(shoppers_dried_goods_vegetables)\n"
   ]
  },
  {
   "cell_type": "markdown",
   "metadata": {},
   "source": [
    "**SEVEN**\n",
    "\n",
    "\n",
    "**This cell Function deletes the anonymous trip and associated purchases, from the shoppingtrips table**\n",
    " Calling the function to delete the anonymous trip and associated purchases"
   ]
  },
  {
   "cell_type": "code",
   "execution_count": null,
   "metadata": {},
   "outputs": [],
   "source": [
    "def delete_anonymous_trip():\n",
    "    # delete the associated purchases for the anonymous trip\n",
    "    query_delete_purchases = \"\"\"\n",
    "        DELETE FROM purchases WHERE trip_id IN (\n",
    "            SELECT trip_id FROM shoppingtrips WHERE shopper_id IS NULL AND trip_date = '2023-07-19'\n",
    "        );\n",
    "    \"\"\"\n",
    "    execute_query(query_delete_purchases)\n",
    "\n",
    "    #  delete the anonymous trip from the shoppingtrips table\n",
    "    query_delete_trip = \"\"\"\n",
    "        DELETE FROM shoppingtrips WHERE shopper_id IS NULL AND trip_date = '2023-07-19';\n",
    "    \"\"\"\n",
    "    execute_query(query_delete_trip)\n",
    "    print(\"Anonymous trip DELETED SUCCESSFULLY!\")\n",
    "\n",
    "# Calling the function to delete the anonymous trip and associated purchases\n",
    "delete_anonymous_trip()\n"
   ]
  }
 ],
 "metadata": {
  "kernelspec": {
   "display_name": "Python 3",
   "language": "python",
   "name": "python3"
  },
  "language_info": {
   "codemirror_mode": {
    "name": "ipython",
    "version": 3
   },
   "file_extension": ".py",
   "mimetype": "text/x-python",
   "name": "python",
   "nbconvert_exporter": "python",
   "pygments_lexer": "ipython3",
   "version": "3.11.4"
  },
  "orig_nbformat": 4
 },
 "nbformat": 4,
 "nbformat_minor": 2
}
